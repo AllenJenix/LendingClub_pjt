{
 "cells": [
  {
   "cell_type": "markdown",
   "id": "4ad0e82c-095a-41dd-a2ee-70e584857435",
   "metadata": {},
   "source": [
    "## 1. Import"
   ]
  },
  {
   "cell_type": "code",
   "id": "b0919eeb-bbb3-48d4-ae3f-3dac6b370d95",
   "metadata": {
    "ExecuteTime": {
     "end_time": "2025-03-24T07:42:52.118240Z",
     "start_time": "2025-03-24T07:42:52.110392Z"
    }
   },
   "source": [
    "import pandas as pd\n",
    "import numpy as np\n",
    "from sklearn.model_selection import train_test_split\n",
    "from sklearn.metrics import f1_score\n",
    "from sklearn.preprocessing import OneHotEncoder\n",
    "import xgboost as xgb\n",
    "from xgboost import XGBClassifier\n",
    "from xgboost.callback import EarlyStopping\n",
    "import warnings\n",
    "warnings.filterwarnings(action='ignore')"
   ],
   "outputs": [],
   "execution_count": 27
  },
  {
   "cell_type": "markdown",
   "id": "cd8b152b-c7a9-40f1-975a-516b764fcadd",
   "metadata": {},
   "source": [
    "## 2. Data Load"
   ]
  },
  {
   "cell_type": "code",
   "id": "feed2e5f-fb44-4ec5-8546-711ee29221cd",
   "metadata": {
    "ExecuteTime": {
     "end_time": "2025-03-24T07:23:39.997841Z",
     "start_time": "2025-03-24T07:23:39.928494Z"
    }
   },
   "source": [
    "# 학습/평가 데이터 로드\n",
    "train_df = pd.read_csv('./data/train.csv').drop(columns=['UID'])\n",
    "test_df = pd.read_csv('./data/test.csv').drop(columns=['UID'])"
   ],
   "outputs": [],
   "execution_count": 6
  },
  {
   "cell_type": "markdown",
   "id": "e3b0e69a-f09c-42d3-a263-72bde2fa77e0",
   "metadata": {},
   "source": [
    "## 3. Pre-processing (전처리)"
   ]
  },
  {
   "cell_type": "code",
   "id": "7c070741-4532-4b3a-afc9-62ff99d2c3cc",
   "metadata": {
    "ExecuteTime": {
     "end_time": "2025-03-24T07:24:15.114360Z",
     "start_time": "2025-03-24T07:24:15.083432Z"
    }
   },
   "source": [
    "categorical_col = [\n",
    "    '주거 형태',\n",
    "    '현재 직장 근속 연수',\n",
    "    '대출 목적',\n",
    "    '대출 상환 기간'\n",
    "]\n",
    "\n",
    "# OneHotEncoder 초기화\n",
    "encoder = OneHotEncoder(sparse_output=False, handle_unknown='ignore')\n",
    "\n",
    "# 훈련 데이터에 대해 인코더 학습\n",
    "encoder.fit(train_df[categorical_col])\n",
    "\n",
    "# 훈련 데이터와 테스트 데이터 변환\n",
    "train_encoded = encoder.transform(train_df[categorical_col])\n",
    "test_encoded = encoder.transform(test_df[categorical_col])\n",
    "\n",
    "# One-hot encoding 결과를 데이터프레임으로 변환\n",
    "train_encoded_df = pd.DataFrame(train_encoded, columns=encoder.get_feature_names_out(categorical_col))\n",
    "test_encoded_df = pd.DataFrame(test_encoded, columns=encoder.get_feature_names_out(categorical_col))\n",
    "\n",
    "# 인코딩된 결과를 원래 데이터에 적용\n",
    "train_df = pd.concat([train_df.drop(columns=categorical_col).reset_index(drop=True), train_encoded_df], axis=1)\n",
    "test_df = pd.concat([test_df.drop(columns=categorical_col).reset_index(drop=True), test_encoded_df], axis=1)"
   ],
   "outputs": [],
   "execution_count": 8
  },
  {
   "cell_type": "markdown",
   "id": "1a121283-3c59-4ac8-992a-5b9745882556",
   "metadata": {},
   "source": [
    "## 4. Train / Validation Split (학습 데이터 분할)"
   ]
  },
  {
   "cell_type": "code",
   "id": "40e2ec54-eedc-4c0a-a919-95cfa384f0a4",
   "metadata": {
    "ExecuteTime": {
     "end_time": "2025-03-24T07:24:17.887444Z",
     "start_time": "2025-03-24T07:24:17.870288Z"
    }
   },
   "source": [
    "X_train, X_val, y_train, y_val = train_test_split(\n",
    "    train_df.drop(columns=['채무 불이행 여부']), \n",
    "    train_df['채무 불이행 여부'], \n",
    "    test_size=0.2, \n",
    "    random_state=42\n",
    ")"
   ],
   "outputs": [],
   "execution_count": 9
  },
  {
   "cell_type": "markdown",
   "id": "87d5fe91-12bd-4467-81eb-530347ab14f2",
   "metadata": {},
   "source": [
    "## 5. Model Training (모델 학습)"
   ]
  },
  {
   "cell_type": "code",
   "id": "11efa6b9-131e-475d-b1dd-9310c879505a",
   "metadata": {
    "ExecuteTime": {
     "end_time": "2025-03-24T07:43:14.229571Z",
     "start_time": "2025-03-24T07:43:13.275357Z"
    }
   },
   "source": [
    "# 예시 데이터 (실제 데이터로 교체하세요)\n",
    "# X_train, y_train, X_val, y_val = ...\n",
    "\n",
    "# ------------------------------\n",
    "# Option 1: XGBClassifier (scikit-learn API)\n",
    "# ------------------------------\n",
    "# 이 방식은 early stopping 인자가 최신 버전에서는 문제가 발생할 수 있으므로,\n",
    "# 기본 파라미터로 학습 후, 필요하다면 별도로 조기 종료 관련 처리를 해야 합니다.\n",
    "model = XGBClassifier(\n",
    "    n_estimators=100,        # 트리 개수\n",
    "    max_depth=5,             # 최대 깊이\n",
    "    learning_rate=0.15,      # 학습률\n",
    "    random_state=42,\n",
    "    use_label_encoder=False, # 경고 방지\n",
    "    eval_metric=\"auc\"        # 평가 지표\n",
    ")\n",
    "\n",
    "# 모델 학습 (early stopping 없이 진행)\n",
    "model.fit(X_train, y_train)\n",
    "print(\"XGBClassifier 학습 완료\")\n",
    "\n",
    "\n",
    "# ------------------------------\n",
    "# Option 2: xgb.train() API with early stopping\n",
    "# ------------------------------\n",
    "# DMatrix로 데이터를 변환합니다.\n",
    "dtrain = xgb.DMatrix(X_train, label=y_train)\n",
    "dval = xgb.DMatrix(X_val, label=y_val)\n",
    "evals = [(dval, 'eval')]\n",
    "\n",
    "# 파라미터 설정 (XGBClassifier와 동일한 설정으로 맞춰줍니다)\n",
    "params = {\n",
    "    'objective': 'binary:logistic',\n",
    "    'max_depth': 5,\n",
    "    'learning_rate': 0.15,\n",
    "    'random_state': 42,\n",
    "    'eval_metric': 'auc',\n",
    "}\n",
    "\n",
    "# xgb.train() 사용하여 조기 종료(early stopping) 적용\n",
    "bst = xgb.train(params,\n",
    "                dtrain,\n",
    "                num_boost_round=10000,\n",
    "                evals=evals,\n",
    "                early_stopping_rounds=30)\n",
    "\n",
    "print(\"xgb.train() 사용 학습 완료\")\n",
    "print(\"Best iteration:\", bst.best_iteration)\n",
    "print(\"Best score:\", bst.best_score)\n"
   ],
   "outputs": [
    {
     "name": "stdout",
     "output_type": "stream",
     "text": [
      "XGBClassifier 학습 완료\n",
      "[0]\teval-auc:0.67949\n",
      "[1]\teval-auc:0.69964\n",
      "[2]\teval-auc:0.70016\n",
      "[3]\teval-auc:0.70345\n",
      "[4]\teval-auc:0.70659\n",
      "[5]\teval-auc:0.70639\n",
      "[6]\teval-auc:0.71079\n",
      "[7]\teval-auc:0.71534\n",
      "[8]\teval-auc:0.71936\n",
      "[9]\teval-auc:0.72093\n",
      "[10]\teval-auc:0.72245\n",
      "[11]\teval-auc:0.72422\n",
      "[12]\teval-auc:0.72550\n",
      "[13]\teval-auc:0.72724\n",
      "[14]\teval-auc:0.72821\n",
      "[15]\teval-auc:0.72795\n",
      "[16]\teval-auc:0.72853\n",
      "[17]\teval-auc:0.72884\n",
      "[18]\teval-auc:0.72887\n",
      "[19]\teval-auc:0.73025\n",
      "[20]\teval-auc:0.73043\n",
      "[21]\teval-auc:0.73077\n",
      "[22]\teval-auc:0.73113\n",
      "[23]\teval-auc:0.73156\n",
      "[24]\teval-auc:0.73284\n",
      "[25]\teval-auc:0.73295\n",
      "[26]\teval-auc:0.73348\n",
      "[27]\teval-auc:0.73373\n",
      "[28]\teval-auc:0.73408\n",
      "[29]\teval-auc:0.73461\n",
      "[30]\teval-auc:0.73517\n",
      "[31]\teval-auc:0.73577\n",
      "[32]\teval-auc:0.73554\n",
      "[33]\teval-auc:0.73587\n",
      "[34]\teval-auc:0.73533\n",
      "[35]\teval-auc:0.73541\n",
      "[36]\teval-auc:0.73582\n",
      "[37]\teval-auc:0.73529\n",
      "[38]\teval-auc:0.73537\n",
      "[39]\teval-auc:0.73536\n",
      "[40]\teval-auc:0.73547\n",
      "[41]\teval-auc:0.73603\n",
      "[42]\teval-auc:0.73571\n",
      "[43]\teval-auc:0.73566\n",
      "[44]\teval-auc:0.73587\n",
      "[45]\teval-auc:0.73623\n",
      "[46]\teval-auc:0.73629\n",
      "[47]\teval-auc:0.73636\n",
      "[48]\teval-auc:0.73613\n",
      "[49]\teval-auc:0.73594\n",
      "[50]\teval-auc:0.73610\n",
      "[51]\teval-auc:0.73609\n",
      "[52]\teval-auc:0.73622\n",
      "[53]\teval-auc:0.73595\n",
      "[54]\teval-auc:0.73543\n",
      "[55]\teval-auc:0.73574\n",
      "[56]\teval-auc:0.73561\n",
      "[57]\teval-auc:0.73572\n",
      "[58]\teval-auc:0.73517\n",
      "[59]\teval-auc:0.73496\n",
      "[60]\teval-auc:0.73468\n",
      "[61]\teval-auc:0.73460\n",
      "[62]\teval-auc:0.73430\n",
      "[63]\teval-auc:0.73426\n",
      "[64]\teval-auc:0.73419\n",
      "[65]\teval-auc:0.73455\n",
      "[66]\teval-auc:0.73368\n",
      "[67]\teval-auc:0.73453\n",
      "[68]\teval-auc:0.73462\n",
      "[69]\teval-auc:0.73502\n",
      "[70]\teval-auc:0.73494\n",
      "[71]\teval-auc:0.73535\n",
      "[72]\teval-auc:0.73510\n",
      "[73]\teval-auc:0.73575\n",
      "[74]\teval-auc:0.73611\n",
      "[75]\teval-auc:0.73622\n",
      "[76]\teval-auc:0.73639\n",
      "[77]\teval-auc:0.73670\n",
      "[78]\teval-auc:0.73634\n",
      "[79]\teval-auc:0.73633\n",
      "[80]\teval-auc:0.73671\n",
      "[81]\teval-auc:0.73645\n",
      "[82]\teval-auc:0.73645\n",
      "[83]\teval-auc:0.73615\n",
      "[84]\teval-auc:0.73578\n",
      "[85]\teval-auc:0.73567\n",
      "[86]\teval-auc:0.73530\n",
      "[87]\teval-auc:0.73453\n",
      "[88]\teval-auc:0.73433\n",
      "[89]\teval-auc:0.73361\n",
      "[90]\teval-auc:0.73360\n",
      "[91]\teval-auc:0.73360\n",
      "[92]\teval-auc:0.73349\n",
      "[93]\teval-auc:0.73275\n",
      "[94]\teval-auc:0.73261\n",
      "[95]\teval-auc:0.73288\n",
      "[96]\teval-auc:0.73267\n",
      "[97]\teval-auc:0.73252\n",
      "[98]\teval-auc:0.73206\n",
      "[99]\teval-auc:0.73179\n",
      "[100]\teval-auc:0.73202\n",
      "[101]\teval-auc:0.73105\n",
      "[102]\teval-auc:0.73065\n",
      "[103]\teval-auc:0.73027\n",
      "[104]\teval-auc:0.73043\n",
      "[105]\teval-auc:0.73097\n",
      "[106]\teval-auc:0.73082\n",
      "[107]\teval-auc:0.73028\n",
      "[108]\teval-auc:0.72991\n",
      "[109]\teval-auc:0.73002\n",
      "[110]\teval-auc:0.72998\n",
      "xgb.train() 사용 학습 완료\n",
      "Best iteration: 80\n",
      "Best score: 0.736706935605652\n"
     ]
    }
   ],
   "execution_count": 29
  },
  {
   "cell_type": "markdown",
   "id": "08f6a4a8-425a-4e51-a664-dc11a1c2f791",
   "metadata": {},
   "source": [
    "## 6. Prediction"
   ]
  },
  {
   "cell_type": "code",
   "id": "aa2b7f75-b22e-465f-a646-ce56d96303a7",
   "metadata": {
    "ExecuteTime": {
     "end_time": "2025-03-24T07:43:18.630192Z",
     "start_time": "2025-03-24T07:43:18.621774Z"
    }
   },
   "source": [
    "# 채무 불이행 '확률'을 예측합니다.\n",
    "preds = model.predict_proba(test_df)[:,1]"
   ],
   "outputs": [],
   "execution_count": 30
  },
  {
   "cell_type": "markdown",
   "id": "171c1744-9ae8-4d87-b545-e1b262fc5534",
   "metadata": {},
   "source": [
    "## 7. Submission (제출 파일 생성)"
   ]
  },
  {
   "cell_type": "code",
   "id": "a5052885-f65f-4fc7-9a53-4d8bdce39a58",
   "metadata": {
    "ExecuteTime": {
     "end_time": "2025-03-24T07:43:24.173268Z",
     "start_time": "2025-03-24T07:43:24.159189Z"
    }
   },
   "source": [
    "submit = pd.read_csv('./data/sample_submission.csv')\n",
    "\n",
    "# 결과 저장\n",
    "submit['채무 불이행 확률'] = preds\n",
    "submit.to_csv('./submission.csv', encoding='UTF-8-sig', index=False)"
   ],
   "outputs": [],
   "execution_count": 31
  }
 ],
 "metadata": {
  "kernelspec": {
   "display_name": "Python 3 (ipykernel)",
   "language": "python",
   "name": "python3"
  },
  "language_info": {
   "codemirror_mode": {
    "name": "ipython",
    "version": 3
   },
   "file_extension": ".py",
   "mimetype": "text/x-python",
   "name": "python",
   "nbconvert_exporter": "python",
   "pygments_lexer": "ipython3",
   "version": "3.8.18"
  }
 },
 "nbformat": 4,
 "nbformat_minor": 5
}
