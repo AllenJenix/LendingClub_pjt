{
 "cells": [
  {
   "cell_type": "markdown",
   "id": "4ad0e82c-095a-41dd-a2ee-70e584857435",
   "metadata": {},
   "source": [
    "## 1. Import"
   ]
  },
  {
   "cell_type": "code",
   "execution_count": 1,
   "id": "b0919eeb-bbb3-48d4-ae3f-3dac6b370d95",
   "metadata": {},
   "outputs": [],
   "source": [
    "import pandas as pd\n",
    "import numpy as np\n",
    "from sklearn.model_selection import train_test_split\n",
    "from sklearn.metrics import f1_score\n",
    "from sklearn.preprocessing import OneHotEncoder\n",
    "from xgboost import XGBClassifier\n",
    "import warnings\n",
    "warnings.filterwarnings(action='ignore')"
   ]
  },
  {
   "cell_type": "markdown",
   "id": "cd8b152b-c7a9-40f1-975a-516b764fcadd",
   "metadata": {},
   "source": [
    "## 2. Data Load"
   ]
  },
  {
   "cell_type": "code",
   "execution_count": 2,
   "id": "feed2e5f-fb44-4ec5-8546-711ee29221cd",
   "metadata": {},
   "outputs": [],
   "source": [
    "# 학습/평가 데이터 로드\n",
    "train_df = pd.read_csv('./train.csv').drop(columns=['UID'])\n",
    "test_df = pd.read_csv('./test.csv').drop(columns=['UID'])"
   ]
  },
  {
   "cell_type": "markdown",
   "id": "e3b0e69a-f09c-42d3-a263-72bde2fa77e0",
   "metadata": {},
   "source": [
    "## 3. Pre-processing (전처리)"
   ]
  },
  {
   "cell_type": "code",
   "execution_count": 3,
   "id": "7c070741-4532-4b3a-afc9-62ff99d2c3cc",
   "metadata": {},
   "outputs": [],
   "source": [
    "categorical_col = [\n",
    "    '주거 형태',\n",
    "    '현재 직장 근속 연수',\n",
    "    '대출 목적',\n",
    "    '대출 상환 기간'\n",
    "]\n",
    "\n",
    "# OneHotEncoder 초기화\n",
    "encoder = OneHotEncoder(sparse=False, handle_unknown='ignore')\n",
    "\n",
    "# 훈련 데이터에 대해 인코더 학습\n",
    "encoder.fit(train_df[categorical_col])\n",
    "\n",
    "# 훈련 데이터와 테스트 데이터 변환\n",
    "train_encoded = encoder.transform(train_df[categorical_col])\n",
    "test_encoded = encoder.transform(test_df[categorical_col])\n",
    "\n",
    "# One-hot encoding 결과를 데이터프레임으로 변환\n",
    "train_encoded_df = pd.DataFrame(train_encoded, columns=encoder.get_feature_names_out(categorical_col))\n",
    "test_encoded_df = pd.DataFrame(test_encoded, columns=encoder.get_feature_names_out(categorical_col))\n",
    "\n",
    "# 인코딩된 결과를 원래 데이터에 적용\n",
    "train_df = pd.concat([train_df.drop(columns=categorical_col).reset_index(drop=True), train_encoded_df], axis=1)\n",
    "test_df = pd.concat([test_df.drop(columns=categorical_col).reset_index(drop=True), test_encoded_df], axis=1)"
   ]
  },
  {
   "cell_type": "markdown",
   "id": "1a121283-3c59-4ac8-992a-5b9745882556",
   "metadata": {},
   "source": [
    "## 4. Train / Validation Split (학습 데이터 분할)"
   ]
  },
  {
   "cell_type": "code",
   "execution_count": 4,
   "id": "40e2ec54-eedc-4c0a-a919-95cfa384f0a4",
   "metadata": {},
   "outputs": [],
   "source": [
    "X_train, X_val, y_train, y_val = train_test_split(\n",
    "    train_df.drop(columns=['채무 불이행 여부']), \n",
    "    train_df['채무 불이행 여부'], \n",
    "    test_size=0.2, \n",
    "    random_state=42\n",
    ")"
   ]
  },
  {
   "cell_type": "markdown",
   "id": "87d5fe91-12bd-4467-81eb-530347ab14f2",
   "metadata": {},
   "source": [
    "## 5. Model Training (모델 학습)"
   ]
  },
  {
   "cell_type": "code",
   "execution_count": null,
   "id": "11efa6b9-131e-475d-b1dd-9310c879505a",
   "metadata": {},
   "outputs": [],
   "source": [
    "# XGBoost 모델 학습\n",
    "model = XGBClassifier(\n",
    "    n_estimators=100,  # 트리 개수\n",
    "    max_depth=5,       # 최대 깊이\n",
    "    learning_rate=0.15, # 학습률\n",
    "    random_state=42,\n",
    "    use_label_encoder=False,  # 경고 방지\n",
    "    eval_metric=\"auc\",        # 평가 지표 설정\n",
    ")\n",
    "\n",
    "# 학습 및 Validation 성능 모니터링\n",
    "eval_set = [(X_train, y_train), (X_val, y_val)]\n",
    "model.fit(\n",
    "    X_train, y_train,\n",
    "    eval_set=eval_set,\n",
    "    verbose=True,  # 학습 로그 출력\n",
    "    early_stopping_rounds=10  # 5번의 학습 동안 성능 개선 없을 시 조기 종료\n",
    ")"
   ]
  },
  {
   "cell_type": "markdown",
   "id": "08f6a4a8-425a-4e51-a664-dc11a1c2f791",
   "metadata": {},
   "source": [
    "## 6. Prediction"
   ]
  },
  {
   "cell_type": "code",
   "execution_count": 6,
   "id": "aa2b7f75-b22e-465f-a646-ce56d96303a7",
   "metadata": {},
   "outputs": [],
   "source": [
    "# 채무 불이행 '확률'을 예측합니다.\n",
    "preds = model.predict_proba(test_df)[:,1]"
   ]
  },
  {
   "cell_type": "markdown",
   "id": "171c1744-9ae8-4d87-b545-e1b262fc5534",
   "metadata": {},
   "source": [
    "## 7. Submission (제출 파일 생성)"
   ]
  },
  {
   "cell_type": "code",
   "execution_count": 7,
   "id": "a5052885-f65f-4fc7-9a53-4d8bdce39a58",
   "metadata": {},
   "outputs": [],
   "source": [
    "submit = pd.read_csv('./sample_submission.csv')\n",
    "\n",
    "# 결과 저장\n",
    "submit['채무 불이행 확률'] = preds\n",
    "submit.to_csv('./submission.csv', encoding='UTF-8-sig', index=False)"
   ]
  }
 ],
 "metadata": {
  "kernelspec": {
   "display_name": "gimin_py38",
   "language": "python",
   "name": "gimin_py38"
  },
  "language_info": {
   "codemirror_mode": {
    "name": "ipython",
    "version": 3
   },
   "file_extension": ".py",
   "mimetype": "text/x-python",
   "name": "python",
   "nbconvert_exporter": "python",
   "pygments_lexer": "ipython3",
   "version": "3.8.18"
  }
 },
 "nbformat": 4,
 "nbformat_minor": 5
}
